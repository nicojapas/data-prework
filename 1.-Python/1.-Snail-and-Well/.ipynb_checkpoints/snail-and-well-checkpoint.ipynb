{
 "cells": [
  {
   "cell_type": "markdown",
   "metadata": {},
   "source": [
    "<img src=\"https://bit.ly/2VnXWr2\" width=\"100\" align=\"left\">"
   ]
  },
  {
   "cell_type": "markdown",
   "metadata": {},
   "source": [
    "# The Snail and the Well\n",
    "\n",
    "A snail falls at the bottom of a 125 cm well. Each day the snail rises 30 cm. But at night, while sleeping, slides 20 cm because the walls are wet. How many days does it take for the snail to escape the well?\n",
    "\n",
    "**Hint**: The snail gets out of the well when it surpasses the 125cm of height.\n",
    "\n",
    "## Tools\n",
    "\n",
    "1. Loop: **while**\n",
    "2. Conditional statements: **if-else**\n",
    "3. Function: **print()**\n",
    "\n",
    "## Tasks\n",
    "\n",
    "#### 1. Assign the challenge data to variables with representative names: `well_height`, `daily_distance`, `nightly_distance` and `snail_position`."
   ]
  },
  {
   "cell_type": "code",
   "execution_count": 1,
   "metadata": {},
   "outputs": [],
   "source": [
    "well_height = 125\n",
    "daily_distance = 30\n",
    "nightly_distance = 20\n",
    "snail_position = 0"
   ]
  },
  {
   "cell_type": "markdown",
   "metadata": {},
   "source": [
    "#### 2. Create a variable `days` to keep count of the days that pass until the snail escapes the well. "
   ]
  },
  {
   "cell_type": "code",
   "execution_count": 2,
   "metadata": {},
   "outputs": [],
   "source": [
    "days = 0"
   ]
  },
  {
   "cell_type": "markdown",
   "metadata": {},
   "source": [
    "#### 3. Find the solution to the challenge using the variables defined above. "
   ]
  },
  {
   "cell_type": "code",
   "execution_count": 3,
   "metadata": {},
   "outputs": [],
   "source": [
    "while (snail_position < well_height):\n",
    "    days += 1\n",
    "    snail_position += daily_distance\n",
    "    if (snail_position <= well_height):\n",
    "        snail_position -= nightly_distance"
   ]
  },
  {
   "cell_type": "markdown",
   "metadata": {},
   "source": [
    "#### 4. Print the solution."
   ]
  },
  {
   "cell_type": "code",
   "execution_count": 4,
   "metadata": {},
   "outputs": [
    {
     "name": "stdout",
     "output_type": "stream",
     "text": [
      "It took the snail 11 days to get out of the well.\n"
     ]
    }
   ],
   "source": [
    "print(\"It took the snail\", days, \"days to get out of the well.\")"
   ]
  },
  {
   "cell_type": "markdown",
   "metadata": {},
   "source": [
    "## Bonus\n",
    "The distance traveled by the snail each day is now defined by a list.\n",
    "```\n",
    "advance_cm = [30, 21, 33, 77, 44, 45, 23, 45, 12, 34, 55]\n",
    "```\n",
    "On the first day, the snail rises 30cm but during the night it slides 20cm. On the second day, the snail rises 21cm but during the night it slides 20cm, and so on. \n",
    "\n",
    "#### 1. How many days does it take for the snail to escape the well?\n",
    "Follow the same guidelines as in the previous challenge.\n",
    "\n",
    "**Hint**: Remember that the snail gets out of the well when it surpasses the 125cm of height."
   ]
  },
  {
   "cell_type": "code",
   "execution_count": 5,
   "metadata": {},
   "outputs": [
    {
     "name": "stdout",
     "output_type": "stream",
     "text": [
      "It took the snail 6 days to get out of the well.\n"
     ]
    }
   ],
   "source": [
    "days = 0\n",
    "snail_position = 0\n",
    "displacement = 0\n",
    "advance_cm = [30, 21, 33, 77, 44, 45, 23, 45, 12, 34, 55]\n",
    "\n",
    "while (snail_position < well_height):\n",
    "    days += 1\n",
    "    if (snail_position + advance_cm[days-1] <= well_height):\n",
    "        # Because it says \"surpasses\" the right conditional here is <=.\n",
    "        # Had it been \"reaches\", then < would be correct, and therefore only 5 days needed.\n",
    "        displacement = advance_cm[days-1] - nightly_distance\n",
    "        snail_position += displacement\n",
    "    else:\n",
    "        displacement = well_height - snail_position\n",
    "        snail_position = well_height\n",
    "        \n",
    "print(\"It took the snail\", days, \"days to get out of the well.\")\n"
   ]
  },
  {
   "cell_type": "markdown",
   "metadata": {},
   "source": [
    "#### 2. What is its maximum displacement in one day? And its minimum? Calculate the displacement using only the travel distance of the days used to get out of the well. \n",
    "**Hint**: Remember that displacement means the total distance risen taking into account that the snail slides at night.  "
   ]
  },
  {
   "cell_type": "code",
   "execution_count": 6,
   "metadata": {},
   "outputs": [
    {
     "name": "stdout",
     "output_type": "stream",
     "text": [
      "On day  1  the snail displaced  10  cm.\n",
      "On day  2  the snail displaced  1  cm.\n",
      "On day  3  the snail displaced  13  cm.\n",
      "On day  4  the snail displaced  57  cm.\n",
      "On day  5  the snail displaced  24  cm.\n",
      "On day  6  the snail displaced  20  cm.\n",
      "The maximum displacement was  57  cm.\n",
      "The minimum displacement was  1  cm.\n"
     ]
    }
   ],
   "source": [
    "days = 0\n",
    "needed_days = 6 #from previous exercise\n",
    "snail_position = 0\n",
    "displacement = [0]*needed_days\n",
    "\n",
    "while (days < needed_days):\n",
    "    days += 1\n",
    "\n",
    "    if (snail_position + advance_cm[days-1] <= well_height):\n",
    "        displacement[days-1] = advance_cm[days-1] - nightly_distance\n",
    "        snail_position += displacement[days-1]\n",
    "    else:\n",
    "        displacement[days-1] = well_height - snail_position\n",
    "        snail_position = well_height\n",
    "    \n",
    "    print(\"On day \", days, \" the snail displaced \", displacement[days-1], \" cm.\")\n",
    "    \n",
    "print(\"The maximum displacement was \", max(displacement), \" cm.\")\n",
    "print(\"The minimum displacement was \", min(displacement), \" cm.\")"
   ]
  },
  {
   "cell_type": "markdown",
   "metadata": {},
   "source": [
    "#### 3. What is its average progress? Take into account the snail slides at night."
   ]
  },
  {
   "cell_type": "code",
   "execution_count": 7,
   "metadata": {},
   "outputs": [
    {
     "name": "stdout",
     "output_type": "stream",
     "text": [
      "The average progress is  20.833333333333332  cm.\n"
     ]
    }
   ],
   "source": [
    "mean = sum(displacement)/len(displacement)\n",
    "print(\"The average progress is \", mean, \" cm.\")"
   ]
  },
  {
   "cell_type": "markdown",
   "metadata": {},
   "source": [
    "\n",
    "\n",
    "#### 4. What is the standard deviation of its displacement? Take into account the snail slides at night."
   ]
  },
  {
   "cell_type": "code",
   "execution_count": 8,
   "metadata": {},
   "outputs": [
    {
     "name": "stdout",
     "output_type": "stream",
     "text": [
      "19.44650782702814\n",
      "The displacement's standard deviation is 19.44650782702814\n"
     ]
    }
   ],
   "source": [
    "# Method 1\n",
    "import statistics as std\n",
    "print(std.stdev(displacement))\n",
    "\n",
    "# Method 2\n",
    "variance = 0\n",
    "\n",
    "for i in displacement:\n",
    "    variance += (i - mean) ** 2\n",
    "variance /= len(displacement) - 1\n",
    "\n",
    "print(\"The displacement's standard deviation is\", variance ** 0.5)"
   ]
  }
 ],
 "metadata": {
  "kernelspec": {
   "display_name": "Python 3",
   "language": "python",
   "name": "python3"
  },
  "language_info": {
   "codemirror_mode": {
    "name": "ipython",
    "version": 3
   },
   "file_extension": ".py",
   "mimetype": "text/x-python",
   "name": "python",
   "nbconvert_exporter": "python",
   "pygments_lexer": "ipython3",
   "version": "3.8.2"
  }
 },
 "nbformat": 4,
 "nbformat_minor": 2
}
