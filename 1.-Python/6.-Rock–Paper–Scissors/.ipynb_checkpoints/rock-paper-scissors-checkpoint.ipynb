{
 "cells": [
  {
   "cell_type": "markdown",
   "metadata": {},
   "source": [
    "<img src=\"https://bit.ly/2VnXWr2\" width=\"100\" align=\"left\">"
   ]
  },
  {
   "cell_type": "markdown",
   "metadata": {},
   "source": [
    "# Rock, Paper & Scissors\n",
    "\n",
    "Let's play the famous game against our computer. You can check the rules [here](https://en.wikipedia.org/wiki/Rock%E2%80%93paper%E2%80%93scissors). \n",
    "\n",
    "## Task\n",
    "Create a program that imitates the playability of the well known game of rock, paper, scissors. Follow the guidelines provided.\n",
    "\n",
    "## Tools\n",
    "1. Loop: **for/while**\n",
    "2. Functions: **input(), print()...**\n",
    "3. Conditional statements: **if, elif, else**\n",
    "4. Definition of functions. Modular programming\n",
    "5. Import modules\n",
    "\n",
    "**To solve this challenge, the use of functions is recommended.**\n",
    "\n",
    "#### 1. Import the choice function of the random module."
   ]
  },
  {
   "cell_type": "code",
   "execution_count": 1,
   "metadata": {},
   "outputs": [],
   "source": [
    "from random import choice"
   ]
  },
  {
   "cell_type": "markdown",
   "metadata": {},
   "source": [
    "#### 2. Create a list that includes the 3 possible gesture options of the game: 'rock', 'paper' or 'scissors'. Store the list in a variable called `gestures`."
   ]
  },
  {
   "cell_type": "code",
   "execution_count": 2,
   "metadata": {},
   "outputs": [],
   "source": [
    "gestures = [\"rock\",\"paper\",\"scissors\"]"
   ]
  },
  {
   "cell_type": "markdown",
   "metadata": {},
   "source": [
    "#### 3. Create a variable called `n_rounds` to store the maximum number of rounds to play in a game. \n",
    "Remember that the number of rounds must be odd: 1, 3, 5, ..."
   ]
  },
  {
   "cell_type": "code",
   "execution_count": 3,
   "metadata": {},
   "outputs": [],
   "source": [
    "n_rounds = 5"
   ]
  },
  {
   "cell_type": "markdown",
   "metadata": {},
   "source": [
    "#### 4. Create a variable called `rounds_to_win` to store the number of rounds that a player must win to win the game.\n",
    "**Hint**: the value stored in `rounds_to_win` depends on the value of `n_rounds`. "
   ]
  },
  {
   "cell_type": "code",
   "execution_count": 4,
   "metadata": {},
   "outputs": [],
   "source": [
    "if n_rounds % 2 == 0:\n",
    "    # n_rounds es par\n",
    "    rounds_to_win = n_rounds/2 + 1\n",
    "else:\n",
    "    # n_rounds es impar\n",
    "    rounds_to_win = (n_rounds + 1)/2"
   ]
  },
  {
   "cell_type": "markdown",
   "metadata": {},
   "source": [
    "#### 5. Create two variables to store the number of rounds that the computer and the player have won. Call these variables `cpu_score` and `player_score`."
   ]
  },
  {
   "cell_type": "code",
   "execution_count": 5,
   "metadata": {},
   "outputs": [],
   "source": [
    "cpu_score = 0\n",
    "player_score = 0"
   ]
  },
  {
   "cell_type": "markdown",
   "metadata": {},
   "source": [
    "#### 6. Define a function that randomly returns one of the 3 gesture options.\n",
    "You will use this function to simulate the gesture choice of the computer. "
   ]
  },
  {
   "cell_type": "code",
   "execution_count": 6,
   "metadata": {},
   "outputs": [],
   "source": [
    "def pc_plays():\n",
    "    return choice(gestures)"
   ]
  },
  {
   "cell_type": "markdown",
   "metadata": {},
   "source": [
    "#### 7. Define a function that asks the player which is the gesture he or she wants to show: 'rock', 'paper' or 'scissors'.\n",
    "The player should only be allowed to choose one of the 3 gesture options. If the player's choice is not rock, paper or scissors, keep asking until it is."
   ]
  },
  {
   "cell_type": "code",
   "execution_count": 7,
   "metadata": {},
   "outputs": [],
   "source": [
    "def human_plays():\n",
    "    while True:\n",
    "        try:\n",
    "            s = input()\n",
    "            if s != gestures[0] and s != gestures[1] and s != gestures[2]:\n",
    "                raise ValueError\n",
    "            break\n",
    "        except ValueError:\n",
    "            print(\"Invalid option. Please choose rock, paper or scissors.\")\n",
    "    return s"
   ]
  },
  {
   "cell_type": "markdown",
   "metadata": {},
   "source": [
    "#### 8. Define a function that checks who won a round. \n",
    "The function should return 0 if there is a tie, 1 if the computer wins and 2 if the player wins."
   ]
  },
  {
   "cell_type": "code",
   "execution_count": 8,
   "metadata": {},
   "outputs": [],
   "source": [
    "def who_wins(x,y):\n",
    "# x corresponds to pc and y to human\n",
    "    if x == y:\n",
    "        return 0\n",
    "    if x == gestures[0]:\n",
    "        if y == gestures[1]:\n",
    "            return 2\n",
    "        elif y == gestures[2]:\n",
    "            return 1\n",
    "    elif x == gestures[1]:\n",
    "        if y == gestures[0]:\n",
    "            return 1\n",
    "        elif y == gestures[2]:\n",
    "            return 2\n",
    "    elif x == gestures[2]:\n",
    "        if y == gestures[0]:\n",
    "            return 2\n",
    "        elif y == gestures[1]:\n",
    "            return 1"
   ]
  },
  {
   "cell_type": "markdown",
   "metadata": {},
   "source": [
    "#### 9. Define a function that prints the choice of the computer, the choice of the player and a message that announces who won the current round. \n",
    "You should also use this function to update the variables that count the number of rounds that the computer and the player have won. The score of the winner increases by one point. If there is a tie, the score does not increase."
   ]
  },
  {
   "cell_type": "code",
   "execution_count": 9,
   "metadata": {},
   "outputs": [],
   "source": [
    "def print_results(x,y,z):\n",
    "    global cpu_score\n",
    "    global player_score\n",
    "    print(\"Human chooses\",y)\n",
    "    print(\"PC chooses\",x)\n",
    "    if z == 0:\n",
    "        print(\"Tie\")\n",
    "    elif z == 1:\n",
    "        cpu_score += 1\n",
    "        print(\"PC wins\")\n",
    "    elif z == 2:\n",
    "        player_score += 1\n",
    "        print(\"Human wins\")"
   ]
  },
  {
   "cell_type": "markdown",
   "metadata": {},
   "source": [
    "#### 10. Now it's time to code the execution of the game using the functions and variables you defined above. \n",
    "\n",
    "First, create a loop structure that repeats while no player reaches the minimum score necessary to win and the number of rounds is less than the maximum number of rounds to play in a game.  \n",
    "\n",
    "Inside the loop, use the functions and variables above to create the execution of a round: ask for the player's choice, generate the random choice of the computer, show the round results, update the scores, etc. "
   ]
  },
  {
   "cell_type": "code",
   "execution_count": 10,
   "metadata": {},
   "outputs": [
    {
     "name": "stdout",
     "output_type": "stream",
     "text": [
      "1asd\n",
      "Invalid option. Please choose rock, paper or scissors.\n",
      "rock\n",
      "Round 1\n",
      "Human chooses rock\n",
      "PC chooses scissors\n",
      "Human wins\n",
      "rock\n",
      "Round 2\n",
      "Human chooses rock\n",
      "PC chooses scissors\n",
      "Human wins\n",
      "rock\n",
      "Round 3\n",
      "Human chooses rock\n",
      "PC chooses scissors\n",
      "Human wins\n"
     ]
    }
   ],
   "source": [
    "round_n = 0\n",
    "while cpu_score < rounds_to_win and player_score < rounds_to_win and round_n < n_rounds:\n",
    "    round_n += 1\n",
    "    a1 = pc_plays()\n",
    "    a2 = human_plays()\n",
    "    a3 = who_wins(a1,a2)\n",
    "    print(\"Round\",round_n)\n",
    "    print_results(a1,a2,a3)"
   ]
  },
  {
   "cell_type": "markdown",
   "metadata": {},
   "source": [
    "#### 11. Print the winner of the game based on who won more rounds.\n",
    "Remember that the game might be tied. "
   ]
  },
  {
   "cell_type": "code",
   "execution_count": 11,
   "metadata": {},
   "outputs": [
    {
     "name": "stdout",
     "output_type": "stream",
     "text": [
      "Final result: Human wins!\n"
     ]
    }
   ],
   "source": [
    "if player_score == cpu_score:\n",
    "    print(\"Final result: Tie!\")\n",
    "elif player_score > cpu_score:\n",
    "    print(\"Final result: Human wins!\")\n",
    "elif cpu_score > player_score:\n",
    "    print(\"Final result: PC Wins!\")"
   ]
  },
  {
   "cell_type": "markdown",
   "metadata": {},
   "source": [
    "# Bonus: Rock, Paper, Scissors, Lizard & Spock\n",
    "![](images/rpsls.jpg)\n",
    "\n",
    "In this challenge, you need to improve the previous game by adding two new options. To know more about the rules of the improved version of rock, paper, scissors, check this [link](http://www.samkass.com/theories/RPSSL.html). \n",
    "\n",
    "In addition, you will also need to improve how the game interacts with the player: the number of rounds to play, which must be an odd number, will be requested to the user until a valid number is entered. Define a new function to make that request.\n",
    "\n",
    "**Hint**: Try to reuse the code that you already coded in the previous challenge. If your code is efficient, this bonus will only consist of simple modifications to the original game."
   ]
  },
  {
   "cell_type": "code",
   "execution_count": 12,
   "metadata": {},
   "outputs": [
    {
     "name": "stdout",
     "output_type": "stream",
     "text": [
      "Enter number of games: e\n",
      "Invalid option. Please enter an odd number\n",
      "Enter number of games: 2\n",
      "Invalid option. Please enter an odd number\n",
      "Enter number of games: 3\n",
      "Choose rock, paper, scissors, lizard or spock!rock\n",
      "Round 1\n",
      "Human chooses rock\n",
      "PC chooses paper\n",
      "PC wins\n",
      "Choose rock, paper, scissors, lizard or spock!paper\n",
      "Round 2\n",
      "Human chooses paper\n",
      "PC chooses spock\n",
      "Human wins\n",
      "Choose rock, paper, scissors, lizard or spock!lizard\n",
      "Round 3\n",
      "Human chooses lizard\n",
      "PC chooses spock\n",
      "Human wins\n",
      "Final result: Human wins!\n"
     ]
    }
   ],
   "source": [
    "from random import choice\n",
    "gestures = [\"rock\",\"paper\",\"scissors\",\"lizard\",\"spock\"]\n",
    "n_rounds = 0\n",
    "rounds_to_win = 0\n",
    "\n",
    "def how_many_games():\n",
    "    global n_rounds\n",
    "    global rounds_to_win\n",
    "    while True:\n",
    "        try:\n",
    "            i = int(input(\"Enter number of games: \"))\n",
    "            if i % 2 != 0:\n",
    "                break\n",
    "            raise ValueError\n",
    "        except ValueError:\n",
    "            print(\"Invalid option. Please enter an odd number\")\n",
    "    n_rounds = i\n",
    "    rounds_to_win = (n_rounds + 1)/2\n",
    "    pass\n",
    "    \n",
    "cpu_score = 0\n",
    "player_score = 0\n",
    "\n",
    "def pc_plays():\n",
    "    return choice(gestures)\n",
    "def human_plays():\n",
    "    while True:\n",
    "        try:\n",
    "            s = input(\"Choose rock, paper, scissors, lizard or spock!\")\n",
    "            if s != gestures[0] and s != gestures[1] and s != gestures[2] and s != gestures[3] and s != gestures[4]:\n",
    "                raise ValueError\n",
    "            break\n",
    "        except ValueError:\n",
    "            print(\"Invalid option. Please choose rock, paper, scissors, lizard or spock.\")\n",
    "    return s\n",
    "\n",
    "def who_wins(x,y):\n",
    "# x corresponds to pc and y to human\n",
    "    if x == y:\n",
    "        return 0\n",
    "    if x == gestures[0]: # pc chooses rock\n",
    "        if y == gestures[2] or y == gestures[3]:\n",
    "            return 1 # pc wins\n",
    "        elif y == gestures[1] or y == gestures[4]:\n",
    "            return 2 # human wins\n",
    "    elif x == gestures[1]: # pc chooses paper\n",
    "        if y == gestures[0] or y == gestures[4]:\n",
    "            return 1 # pc wins\n",
    "        elif y == gestures[2] or y == gestures[3]:\n",
    "            return 2 # human wins\n",
    "    elif x == gestures[2]: # pc chooses scissors\n",
    "        if y == gestures[1] or y == gestures[3]:\n",
    "            return 1 # pc wins\n",
    "        elif y == gestures[0] or y == gestures[4]:\n",
    "            return 2 # human wins\n",
    "    elif x == gestures[3]: # pc chooses lizard\n",
    "        if y == gestures[1] or y == gestures[4]:\n",
    "            return 1 # pc wins\n",
    "        elif y == gestures[0] or y == gestures[2]:\n",
    "            return 2 # human wins\n",
    "    elif x == gestures[4]: # pc chooses spock\n",
    "        if y == gestures[0] or y == gestures[2]:\n",
    "            return 1 # pc wins\n",
    "        elif y == gestures[1] or y == gestures[3]:\n",
    "            return 2 # human wins\n",
    "        \n",
    "def print_results(x,y,z):\n",
    "    global cpu_score\n",
    "    global player_score\n",
    "    print(\"Human chooses\",y)\n",
    "    print(\"PC chooses\",x)\n",
    "    if z == 0:\n",
    "        print(\"Tie\")\n",
    "    elif z == 1:\n",
    "        cpu_score += 1\n",
    "        print(\"PC wins\")\n",
    "    elif z == 2:\n",
    "        player_score += 1\n",
    "        print(\"Human wins\")\n",
    "round_n = 0\n",
    "\n",
    "how_many_games()\n",
    "while cpu_score < rounds_to_win and player_score < rounds_to_win and round_n < n_rounds:\n",
    "    round_n += 1\n",
    "    a1 = pc_plays()\n",
    "    a2 = human_plays()\n",
    "    a3 = who_wins(a1,a2)\n",
    "    print(\"Round\",round_n)\n",
    "    print_results(a1,a2,a3)\n",
    "if player_score == cpu_score:\n",
    "    print(\"Final result: Tie!\")\n",
    "elif player_score > cpu_score:\n",
    "    print(\"Final result: Human wins!\")\n",
    "elif cpu_score > player_score:\n",
    "    print(\"Final result: PC Wins!\")"
   ]
  }
 ],
 "metadata": {
  "kernelspec": {
   "display_name": "Python 3",
   "language": "python",
   "name": "python3"
  },
  "language_info": {
   "codemirror_mode": {
    "name": "ipython",
    "version": 3
   },
   "file_extension": ".py",
   "mimetype": "text/x-python",
   "name": "python",
   "nbconvert_exporter": "python",
   "pygments_lexer": "ipython3",
   "version": "3.8.2"
  }
 },
 "nbformat": 4,
 "nbformat_minor": 2
}
